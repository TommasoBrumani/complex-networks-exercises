{
 "cells": [
  {
   "cell_type": "markdown",
   "metadata": {
    "deletable": false,
    "editable": false,
    "nbgrader": {
     "cell_type": "markdown",
     "checksum": "79bc5017ee02aa23c0f58de6e984a4bc",
     "grade": false,
     "grade_id": "cell-e466e48f273fd1aa",
     "locked": true,
     "schema_version": 3,
     "solution": false,
     "task": false
    }
   },
   "source": [
    "# Round 4. Error and attack tolerance of networks\n",
    "\n",
    "Error and attack tolerance of networks are often characterized using percolation analysis, where links are removed from the network according to different rules. Typically this kind of analyses are performed on infrastructure networks, such as power-grids or road networks. In this exercise, we will apply this idea to a Facebook-like web-page (Data originally from http://toreopsahl.com/datasets/), and focus on the role of strong and weak links in the network. In this network, each node corresponds to a user of the website and a link between two nodes represents contact, in form of messages, between the two users. Additionally, an integer \"weight\" value is assigned to each link that corresponds to the number of messages exchanged between the users. As opposed to a non-weighted network where nodes are either connected or disconnected, here a higher or lower weight on a link shows stronger or weaker relation (as expressed by number of messages) between each two users.\n",
    "\n",
    "In the file `OClinks_w_undir.edg`, the three entries of each row describe one link: `(node_i node_j w_ij)`, where the last entry `w_ij` is the weight of the link between nodes `node_i` and `node_j`.\n",
    "\n",
    "Your task is now to remove links (one by one) from the network in the order of\n",
    "\n",
    "- descending link weight (i.e. remove strong links first),\n",
    "- ascending link weight (i.e. remove weak links first),\n",
    "- random order\n",
    "\n",
    "While removing the links, monitor the *size of the largest component* $S$ as a function of the fraction of removed links $f \\in [0,1]$.\n",
    "\n",
    "**Visualize** $S$ as a function of $f$ in all three cases *in one plot*. There should be clear differences between all three curves. To which of the three approaches is the network most and least vulnerable? In other words, in which case does the giant component shrink fastest / slowest?\n",
    "\n",
    "To get you started, you may use this notebook, although the use of this notebook is fully **optional**. When using this notebook, you only need to fill in the missing parts of some of the functions, but some of the functions do NOT need any modifications. You may start your solution after the subtitle \"**Begining of the Exercise**\" down below. \n",
    "\n",
    "In addition to returning a short report of your results (including the visualizations), return also your commented Python code or notebook. Remember to label the axes in your figures!"
   ]
  },
  {
   "cell_type": "code",
   "execution_count": 1,
   "metadata": {},
   "outputs": [],
   "source": [
    "import matplotlib.pyplot as plt\n",
    "import numpy as np\n",
    "import networkx as nx"
   ]
  },
  {
   "cell_type": "markdown",
   "metadata": {
    "deletable": false,
    "editable": false,
    "nbgrader": {
     "cell_type": "markdown",
     "checksum": "e86fcd92ebf7c7f1ab94459e0b0413c6",
     "grade": false,
     "grade_id": "cell-4039e7ac23ae450e",
     "locked": true,
     "schema_version": 3,
     "solution": false,
     "task": false
    }
   },
   "source": [
    "### Data\n",
    "Let us load the data from the right folder. If you run this notebook in your machine, please specify the right folder"
   ]
  },
  {
   "cell_type": "code",
   "execution_count": 2,
   "metadata": {
    "deletable": false,
    "nbgrader": {
     "cell_type": "code",
     "checksum": "d5f8d3a22ddb2d7848f0ef78db963bf1",
     "grade": false,
     "grade_id": "cell-d462a69b4f9df199",
     "locked": false,
     "schema_version": 3,
     "solution": true,
     "task": false
    }
   },
   "outputs": [
    {
     "name": "stdout",
     "output_type": "stream",
     "text": [
      "The data directory is ../ES4\n"
     ]
    }
   ],
   "source": [
    "# Select data directory\n",
    "import os\n",
    "if os.path.isdir('../coursedata'):\n",
    "    course_data_dir = '../coursedata'\n",
    "elif os.path.isdir('../data'):\n",
    "    course_data_dir = '../data'\n",
    "else:\n",
    "    # Specify course_data_dir on your machine\n",
    "    course_data_dir = '../ES4'\n",
    "    # YOUR CODE HERE\n",
    "    \n",
    "print('The data directory is %s' % course_data_dir)\n",
    "\n",
    "network_path = os.path.join(course_data_dir, 'OClinks_w_undir.edg')\n",
    "network_name = 'fb-like-network'"
   ]
  },
  {
   "cell_type": "markdown",
   "metadata": {
    "deletable": false,
    "editable": false,
    "nbgrader": {
     "cell_type": "markdown",
     "checksum": "f1ca2f568727755b3ef40611d5cd76cf",
     "grade": false,
     "grade_id": "cell-350bfa643254c3fa",
     "locked": true,
     "schema_version": 3,
     "solution": false,
     "task": false
    }
   },
   "source": [
    "# Begining of the exercise\n",
    "Write your code here to remove links (one by one) from the network."
   ]
  },
  {
   "cell_type": "markdown",
   "metadata": {
    "deletable": false,
    "editable": false,
    "nbgrader": {
     "cell_type": "markdown",
     "checksum": "ceaf16ebd58a52fcae9e1b28265f1f1f",
     "grade": false,
     "grade_id": "cell-7751474d665e79b8",
     "locked": true,
     "schema_version": 3,
     "solution": false,
     "task": false
    }
   },
   "source": [
    "### a. Visualization\n",
    "\n",
    "Visualize $S$ as a function of $f$ in all three cases **in one plot**. There should be clear differences between all three curves.\n",
    "\n",
    "**Hints**\n",
    "- You need to modify the functions `get_giant_size`, `simulate_edge_removal`, and `run_link_removal`.\n",
    "- In the exercise, `networkx.connected_components(G)` may turn out handy. It returns a list of the components of the network, each of them presented as a list of nodes belonging to the component.\n",
    "- Let `components` be the outcome from `networkx.connected_components(G)`. For getting the largest component, you can use `max(componets, key=len)`.\n",
    "- Edges of the present network are tuples of three values. For sorting them based on their weight, `sorted` unction with `key` parameter can be useful. For more information, check https://wiki.python.org/moin/HowTo/Sorting.\n",
    "- The overall running time of this simulation can take up to a couple of minutes but not orders of magnitudes more."
   ]
  },
  {
   "cell_type": "code",
   "execution_count": 3,
   "metadata": {
    "deletable": false,
    "nbgrader": {
     "cell_type": "code",
     "checksum": "1891a6062aa46f61ded9f3a026a476e5",
     "grade": false,
     "grade_id": "cell-5558ca67868384df",
     "locked": false,
     "schema_version": 3,
     "solution": true,
     "task": false
    }
   },
   "outputs": [],
   "source": [
    "def get_giant_size(net):\n",
    "    \"\"\"\n",
    "    Calculates the size of the largest component (i.e. the giant component) of\n",
    "    the network.\n",
    "\n",
    "    Parameters\n",
    "    ----------\n",
    "    net: networkx.Graph() object\n",
    "\n",
    "    Returns\n",
    "    -------\n",
    "    giant_size: int\n",
    "        size of the giant component\n",
    "\n",
    "    \"\"\"\n",
    "    \n",
    "    # YOUR CODE HERE!\n",
    "    components = nx.connected_components(net)\n",
    "    \n",
    "    return len(max(components, key=len))"
   ]
  },
  {
   "cell_type": "code",
   "execution_count": 4,
   "metadata": {
    "deletable": false,
    "nbgrader": {
     "cell_type": "code",
     "checksum": "54c862fb3c8b3c60768fcc11ba4da4b6",
     "grade": false,
     "grade_id": "cell-9638c0efcd86e317",
     "locked": false,
     "schema_version": 3,
     "solution": true,
     "task": false
    }
   },
   "outputs": [],
   "source": [
    "def simulate_edge_removal(orignet, order):\n",
    "    \"\"\"\n",
    "    Performs an edge removal simulation\n",
    "\n",
    "    Parameters\n",
    "    ----------\n",
    "    orignet: networkx.Graph() object\n",
    "        Network in which the edge removal is simulated. A copy of orignet is\n",
    "        created for the simulations, and the original network is not changed.\n",
    "    order: list of tuples\n",
    "        network edges sorted in the order in which they will be removed\n",
    "\n",
    "    Returns\n",
    "    -------\n",
    "    giant_sizes: np.array of ints\n",
    "        sizes of the giant component at different edge densities\n",
    "    \"\"\"\n",
    "    giant_sizes = []\n",
    "    net = orignet.copy() # Creating a copy of the original network\n",
    "    n = len(orignet.edges())\n",
    "    \n",
    "    # YOUR CODE HERE\n",
    "    for i in range(n):\n",
    "        net.remove_edge(order[i][0], order[i][1])\n",
    "        giant_sizes.append(get_giant_size(net))\n",
    "    \n",
    "    return giant_sizes"
   ]
  },
  {
   "cell_type": "code",
   "execution_count": 5,
   "metadata": {
    "deletable": false,
    "nbgrader": {
     "cell_type": "code",
     "checksum": "306cd8398e7495fee3dbe595c258a53e",
     "grade": false,
     "grade_id": "cell-53679cde281bc6c6",
     "locked": false,
     "schema_version": 3,
     "solution": true,
     "task": false
    }
   },
   "outputs": [],
   "source": [
    "def run_link_removal(path, net_name):\n",
    "    \"\"\"\n",
    "    Sets up framework and runs the edge removal simulation.\n",
    "\n",
    "    Parameters\n",
    "    ----------\n",
    "    path: string\n",
    "        path to the network to be analyzed\n",
    "    net_name: string\n",
    "        name of the network (for labeling)\n",
    "\n",
    "    Returns\n",
    "    -------\n",
    "    No direct output, saves figure of the giant component size as a function\n",
    "    of network density.\n",
    "    \"\"\"\n",
    "    # setting up:\n",
    "    \n",
    "    # YOUR CODE HERE\n",
    "    net = nx.read_weighted_edgelist(path)\n",
    "    N = net.number_of_nodes()\n",
    "    edges = list(net.edges.data(\"weight\"))\n",
    "\n",
    "    fig = plt.figure(figsize=(16, 16 * 3 / 4.))\n",
    "    ax = fig.add_subplot(111)\n",
    "    fig.suptitle(net_name)\n",
    "\n",
    "    # defining orders in which to remove the edges\n",
    "    # YOUR CODE HERE\n",
    "    ascending_weight_edge_order = sorted(edges, key=lambda edge: edge[2])\n",
    "    descending_weight_edge_order = sorted(edges, key=lambda edge: edge[2], reverse=True)\n",
    "    random_edge_order = np.copy(edges)\n",
    "    np.random.shuffle(random_edge_order)\n",
    "    \n",
    "    # edge removal:\n",
    "    for order, order_name, color, ls, lw in zip(\n",
    "        [descending_weight_edge_order, ascending_weight_edge_order,\n",
    "         random_edge_order],\n",
    "        [\"w_big_first\",\n",
    "         \"w_small_first\", 'random'],\n",
    "        [\"r\", \"y\", \"b\"],\n",
    "        [\"-\", \"-\", \"-\"],\n",
    "        [2, 3, 4]):\n",
    "\n",
    "        print(\"Now plotting:\", order_name)\n",
    "\n",
    "        giant_sizes = simulate_edge_removal(net, order)\n",
    "        fracs = np.linspace(0, 1, len(giant_sizes))\n",
    "\n",
    "        ax.plot(fracs, np.array(giant_sizes) / float(N), color=color, ls=ls,\n",
    "                label=\"g \" + order_name, lw=lw)\n",
    "\n",
    "        ax.set_ylabel('Biggest component size') \n",
    "        ax.set_xlabel('Fraction of removed links')\n",
    "        # YOUR CODE HERE\n",
    "\n",
    "        ax.legend(loc='lower left')\n",
    "\n",
    "    return fig"
   ]
  },
  {
   "cell_type": "code",
   "execution_count": 6,
   "metadata": {},
   "outputs": [
    {
     "name": "stdout",
     "output_type": "stream",
     "text": [
      "Now plotting: w_big_first\n",
      "Now plotting: w_small_first\n",
      "Now plotting: random\n"
     ]
    },
    {
     "data": {
      "image/png": "[encoded data removed]",
      "text/plain": [
       "<Figure size 1152x864 with 1 Axes>"
      ]
     },
     "metadata": {
      "needs_background": "light"
     },
     "output_type": "display_data"
    }
   ],
   "source": [
    "# Let's visualize the link removal\n",
    "fig = run_link_removal(network_path, network_name)\n",
    "fig.savefig(\"./fb_like_error_and_attack_tolerance.pdf\")"
   ]
  },
  {
   "cell_type": "code",
   "execution_count": null,
   "metadata": {},
   "outputs": [],
   "source": []
  }
 ],
 "metadata": {
  "kernelspec": {
   "display_name": "Python 3",
   "language": "python",
   "name": "python3"
  },
  "language_info": {
   "codemirror_mode": {
    "name": "ipython",
    "version": 3
   },
   "file_extension": ".py",
   "mimetype": "text/x-python",
   "name": "python",
   "nbconvert_exporter": "python",
   "pygments_lexer": "ipython3",
   "version": "3.9.5"
  },
  "varInspector": {
   "cols": {
    "lenName": 16,
    "lenType": 16,
    "lenVar": 40
   },
   "kernels_config": {
    "python": {
     "delete_cmd_postfix": "",
     "delete_cmd_prefix": "del ",
     "library": "var_list.py",
     "varRefreshCmd": "print(var_dic_list())"
    },
    "r": {
     "delete_cmd_postfix": ") ",
     "delete_cmd_prefix": "rm(",
     "library": "var_list.r",
     "varRefreshCmd": "cat(var_dic_list()) "
    }
   },
   "types_to_exclude": [
    "module",
    "function",
    "builtin_function_or_method",
    "instance",
    "_Feature"
   ],
   "window_display": false
  }
 },
 "nbformat": 4,
 "nbformat_minor": 4
}
