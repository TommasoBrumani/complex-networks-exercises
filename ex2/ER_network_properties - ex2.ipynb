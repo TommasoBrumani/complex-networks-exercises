{
 "cells": [
  {
   "cell_type": "markdown",
   "metadata": {
    "deletable": false,
    "editable": false,
    "nbgrader": {
     "cell_type": "markdown",
     "checksum": "e2b3f162b3e36e19377753445d2317b9",
     "grade": false,
     "grade_id": "cell-808e659c1ccc7a95",
     "locked": true,
     "schema_version": 3,
     "solution": false,
     "task": false
    }
   },
   "source": [
    "# Round 2. Properties of Erdös-Rényi (ER) networks\n",
    "\n",
    "Erdös-Rényi networks are random networks where $N$ nodes are randomly connected such that the probability that a pair of nodes are linked is $p$. In network science, the ER random graphs are important because they provide the simplest reference to which one can compare real-world networks.\n",
    "\n",
    "In this exercise, we will analyze some of the properties of ER graphs.\n",
    "\n",
    "To get you started, you may use this notebook. You only need to fill in the required functions. Some of the functions do NOT need modifications, do not worry, the parts that need your input is clearly marked. You may start your solution after the subtitle \"**Begin of the Exercise**\" down below. "
   ]
  },
  {
   "cell_type": "markdown",
   "metadata": {
    "deletable": false,
    "editable": false,
    "nbgrader": {
     "cell_type": "markdown",
     "checksum": "7726166f86e616dac4b9c7078d4f8eb4",
     "grade": false,
     "grade_id": "cell-3f892941066e1b46",
     "locked": true,
     "schema_version": 3,
     "solution": false,
     "task": false
    }
   },
   "source": [
    "Use NetworkX to calculate estimates for the ensemble averages $\\left< k \\right>$, $\\left< c \\right>$, and $\\left< d^* \\right>$  defined in the Exercise 1 of the Assignment Round 2. Do this by generating 100 ER networks for each value of $p$ in range $p=\\left[0.0, 0.1, 0.2, ..., 0.9, 1\\right]$ and $N=3$. An estimate for the ensemble average $\\left< X \\right>$ can be calculated for each value of $p$ by calculating the average value of $X$ over the 100 realisations. \n",
    "\n",
    "- Plot the quantities, such that $p$ values are on the x-axis and $\\left< X \\right>$ values are on the y-axis. If you solved Exercise 1 (Assignment Round 2), you can check the correctness of your results by including your analytical solution to these plots. \n",
    "- Repeat the same exercise with $N=50$.\n",
    "\n",
    "You would need to modify the functions `ER_properties` and `ER_properties_theoretical` for this purpose. The figures will be automatically saved in the notebook folder.\n",
    "\n",
    "**Hints**:\n",
    "- You can use the function `nx.fast_gnp_random_graph(N, p)` for generating ER networks.\n",
    "- You can use the function `nx.diameter()` to calculate the diameter of a network. However, this function only accepts graphs that have a single connected component. Use the function `nx.connected_component_subgraphs()` to iterate over the components, calculate the diameter for each of them, and find the largest value $d^*$."
   ]
  },
  {
   "cell_type": "code",
   "execution_count": 1,
   "metadata": {},
   "outputs": [],
   "source": [
    "import sys\n",
    "import numpy as np\n",
    "import networkx as nx\n",
    "import matplotlib.pyplot as plt"
   ]
  },
  {
   "cell_type": "code",
   "execution_count": 2,
   "metadata": {},
   "outputs": [],
   "source": [
    "def plot_er_values(n, p_list):\n",
    "    '''\n",
    "    This function calculates the theoretical clustering coefficient, average\n",
    "    degree and diameter for ER network with parameters n and p and plots them\n",
    "    against the expected values from an ensemble of 100 realizations.\n",
    "\n",
    "    Parameters\n",
    "    ----------\n",
    "    n : int\n",
    "      Number of nodes\n",
    "    p_list : list of floats\n",
    "      where each member is the probability that a pair of nodes are linked.\n",
    "\n",
    "    Returns\n",
    "    -------\n",
    "    fig: matplotlib Figure\n",
    "                plots of expected values against theoretical values\n",
    "    '''\n",
    "\n",
    "    k_list = [] # list for degrees\n",
    "    c_list = [] # list for clustering coeff values\n",
    "    d_list = [] # list for diameter values\n",
    "    c_list_theory = []\n",
    "    k_list_theory = []\n",
    "    d_list_theory = []\n",
    "\n",
    "    for p in p_list:\n",
    "        print(\"calculating for n=%d p=%f\" % (n, p), file=sys.stderr)\n",
    "        average_c, average_k, average_d = ER_properties(n, p)\n",
    "        k_list.append(average_k)\n",
    "        c_list.append(average_c)\n",
    "        d_list.append(average_d)\n",
    "\n",
    "        if n == 3:\n",
    "            c_theory, k_theory, d_theory = ER_properties_theoretical(p)\n",
    "            c_list_theory.append(c_theory)\n",
    "            k_list_theory.append(k_theory)\n",
    "            d_list_theory.append(d_theory)\n",
    "\n",
    "    fig = plt.figure(figsize=(8,5))\n",
    "    ax = fig.add_subplot(1, 3, 1) # Three subplots for <K>, <C> and <d*> [(1,3,1) means 1 row, three columns, first subplot)\n",
    "\n",
    "    ax.plot(p_list, c_list, 'r-', label=\"Simulated\", marker='o')\n",
    "    if len(c_list_theory) > 0 and c_list_theory[0] is not None:\n",
    "        ax.plot(p_list, c_list_theory, 'b-', label=\"Theoretical\", marker='o')\n",
    "    ax.set_xlabel('p')\n",
    "    ax.set_ylabel('Clustering coefficient')\n",
    "    ax.legend(loc=0)\n",
    "    ax.set_title('N = %d' % n, size=18)\n",
    "\n",
    "    ax2 = fig.add_subplot(1, 3, 2)\n",
    "    ax2.plot(p_list, k_list, 'r-', label=\"Simulated\", marker='o')\n",
    "    if len(k_list_theory) > 0 and k_list_theory[0] is not None:\n",
    "        ax2.plot(p_list, k_list_theory, 'b-', label=\"Theoretical\", marker='o')\n",
    "    ax2.set_xlabel('p')\n",
    "    ax2.set_ylabel('Average degree')\n",
    "    ax2.legend(loc=0)\n",
    "\n",
    "    ax3 = fig.add_subplot(1, 3, 3)\n",
    "    ax3.plot(p_list, d_list, 'r-', label=\"Simulated\", marker='o')\n",
    "    if len(d_list_theory) > 0 and d_list_theory[0] is not None:\n",
    "        ax3.plot(p_list, d_list_theory, 'b-', label=\"Theoretical\", marker='o')\n",
    "    ax3.set_xlabel('p')\n",
    "    ax3.set_ylabel('Diameter')\n",
    "    ax3.legend(loc=0)\n",
    "\n",
    "    fig.tight_layout()\n",
    "\n",
    "    return fig"
   ]
  },
  {
   "cell_type": "markdown",
   "metadata": {
    "deletable": false,
    "editable": false,
    "nbgrader": {
     "cell_type": "markdown",
     "checksum": "9c1a6685a318b0eb4c72f08edde95205",
     "grade": false,
     "grade_id": "cell-fc89b40662449a61",
     "locked": true,
     "schema_version": 3,
     "solution": false,
     "task": false
    }
   },
   "source": [
    "# Begin of the Exercise\n",
    "Write your code here to analyze some of the properties of ER graphs."
   ]
  },
  {
   "cell_type": "code",
   "execution_count": 3,
   "metadata": {
    "deletable": false,
    "nbgrader": {
     "cell_type": "code",
     "checksum": "eede353a825d4f3cb7f4ae7808b2d2f2",
     "grade": false,
     "grade_id": "cell-c5afa3394da8eddc",
     "locked": false,
     "schema_version": 3,
     "solution": true,
     "task": false
    }
   },
   "outputs": [],
   "source": [
    "def ER_properties(n, p):\n",
    "    '''\n",
    "    This function builds 100 ER networks with the given parameters and averages\n",
    "    over them to estimate the expected values of average clustering coefficient,\n",
    "    average degree and diameter of an ER network with the given parameters. The\n",
    "    diameter is always computed for the largest (\"giant\") connected component.\n",
    "\n",
    "    Parameters\n",
    "    ----------\n",
    "    n : int\n",
    "      Number of nodes\n",
    "    p : float\n",
    "      the probability that a pair of nodes are linked is p.\n",
    "\n",
    "    Returns\n",
    "    -------\n",
    "    expected_c: float\n",
    "                expected value of average clustering coefficient\n",
    "    expected_k: float\n",
    "                expected value of average degree\n",
    "    expected_d: float\n",
    "    expected value of d*\n",
    "    ''' \n",
    "    expected_c = None \n",
    "    expected_k = None\n",
    "    expected_d = None\n",
    "    \n",
    "    # YOUR CODE HERE\n",
    "    c_counter, k_counter, d_counter = (0.0, 0.0, 0.0)\n",
    "    for i in range(100):\n",
    "        # generate graph\n",
    "        graph = nx.fast_gnp_random_graph(n, p)\n",
    "        \n",
    "        # add average clustering coefficient to counter\n",
    "        c_counter += nx.average_clustering(graph, count_zeros=True)\n",
    "        \n",
    "        # add average degree to counter\n",
    "        k_counter += 2*graph.number_of_edges()/graph.number_of_nodes()\n",
    "        \n",
    "        # add longest diameter to counter\n",
    "        subgraphs = list((graph.subgraph(cc) for cc in nx.connected_components(graph)))\n",
    "        giant = max(subgraphs, key=len)\n",
    "        d_counter += nx.diameter(giant)\n",
    "    \n",
    "    # average the sums    \n",
    "    expected_c = c_counter/100\n",
    "    expected_k = k_counter/100\n",
    "    expected_d = d_counter/100\n",
    "\n",
    "    return expected_c, expected_k, expected_d"
   ]
  },
  {
   "cell_type": "code",
   "execution_count": 4,
   "metadata": {
    "deletable": false,
    "nbgrader": {
     "cell_type": "code",
     "checksum": "bafe2731f70871bf501817e30390a27e",
     "grade": false,
     "grade_id": "cell-da1d164bb682eb63",
     "locked": false,
     "schema_version": 3,
     "solution": true,
     "task": false
    }
   },
   "outputs": [],
   "source": [
    "def ER_properties_theoretical(p):\n",
    "    '''\n",
    "    This function calculates the theoretical values for clustering coefficients,\n",
    "    average degree, and diameter for ER networks of size 3 and link probability p.\n",
    "    The theoretical values can be viewed as expectations, or ensemble averages.\n",
    "    Therefore, e.g., the expected diameter doesn't have to be integer, although it of\n",
    "    course always is for a single ER network.\n",
    "\n",
    "    Parameters\n",
    "    ----------\n",
    "    p : float\n",
    "      the probability that a pair of nodes are linked is p.\n",
    "\n",
    "    Returns\n",
    "    -------\n",
    "    c_theory: float\n",
    "                theoretical value of average clustering coefficient\n",
    "    k_theory: float\n",
    "                theoretical value of average degree\n",
    "    d_theory: float\n",
    "                Theoretical value of diameter\n",
    "    '''\n",
    "\n",
    "    # Calculate the theoretical values for and ER network with parameters n, p\n",
    "    c_theory = None\n",
    "    k_theory = None\n",
    "    d_theory = None\n",
    "    \n",
    "    # YOUR CODE HERE\n",
    "\n",
    "    # average clustering coefficient\n",
    "    c_theory = p**3\n",
    "    \n",
    "    # average degree\n",
    "    k_theory = 2*p\n",
    "    \n",
    "    # maximum diameter\n",
    "    d_theory = p*(3-2*(p**2))\n",
    "    \n",
    "    return c_theory, k_theory, d_theory"
   ]
  },
  {
   "cell_type": "code",
   "execution_count": 5,
   "metadata": {},
   "outputs": [
    {
     "name": "stderr",
     "output_type": "stream",
     "text": [
      "calculating for n=3 p=0.000000\n",
      "calculating for n=3 p=0.100000\n",
      "calculating for n=3 p=0.200000\n",
      "calculating for n=3 p=0.300000\n",
      "calculating for n=3 p=0.400000\n",
      "calculating for n=3 p=0.500000\n",
      "calculating for n=3 p=0.600000\n",
      "calculating for n=3 p=0.700000\n",
      "calculating for n=3 p=0.800000\n",
      "calculating for n=3 p=0.900000\n",
      "calculating for n=3 p=1.000000\n",
      "calculating for n=50 p=0.000000\n",
      "calculating for n=50 p=0.100000\n",
      "calculating for n=50 p=0.200000\n",
      "calculating for n=50 p=0.300000\n",
      "calculating for n=50 p=0.400000\n",
      "calculating for n=50 p=0.500000\n",
      "calculating for n=50 p=0.600000\n",
      "calculating for n=50 p=0.700000\n",
      "calculating for n=50 p=0.800000\n",
      "calculating for n=50 p=0.900000\n",
      "calculating for n=50 p=1.000000\n"
     ]
    },
    {
     "data": {
      "image/png": "[encoded data removed]",
      "text/plain": [
       "<Figure size 576x360 with 3 Axes>"
      ]
     },
     "metadata": {
      "needs_background": "light"
     },
     "output_type": "display_data"
    },
    {
     "data": {
      "image/png": "[encoded data removed]",
      "text/plain": [
       "<Figure size 576x360 with 3 Axes>"
      ]
     },
     "metadata": {
      "needs_background": "light"
     },
     "output_type": "display_data"
    }
   ],
   "source": [
    "ps = np.arange(0, 1.01, 0.1)\n",
    "\n",
    "fig = plot_er_values(n=3, p_list=ps)\n",
    "\n",
    "figure_filename = './ER_properties_3_nodes.pdf'\n",
    "fig.savefig(figure_filename)\n",
    "# or just use plt.show() and save manually\n",
    "\n",
    "\n",
    "# Do the same steps (calculation and visulization) for n=100\n",
    "fig = plot_er_values(n=50, p_list=ps)\n",
    "\n",
    "figure_filename = './ER_properties_100_nodes.pdf'\n",
    "# fig.savefig(figure_filename)\n",
    "plt.show() "
   ]
  },
  {
   "cell_type": "code",
   "execution_count": null,
   "metadata": {},
   "outputs": [],
   "source": []
  }
 ],
 "metadata": {
  "kernelspec": {
   "display_name": "Python 3",
   "language": "python",
   "name": "python3"
  },
  "language_info": {
   "codemirror_mode": {
    "name": "ipython",
    "version": 3
   },
   "file_extension": ".py",
   "mimetype": "text/x-python",
   "name": "python",
   "nbconvert_exporter": "python",
   "pygments_lexer": "ipython3",
   "version": "3.9.5"
  },
  "varInspector": {
   "cols": {
    "lenName": 16,
    "lenType": 16,
    "lenVar": 40
   },
   "kernels_config": {
    "python": {
     "delete_cmd_postfix": "",
     "delete_cmd_prefix": "del ",
     "library": "var_list.py",
     "varRefreshCmd": "print(var_dic_list())"
    },
    "r": {
     "delete_cmd_postfix": ") ",
     "delete_cmd_prefix": "rm(",
     "library": "var_list.r",
     "varRefreshCmd": "cat(var_dic_list()) "
    }
   },
   "types_to_exclude": [
    "module",
    "function",
    "builtin_function_or_method",
    "instance",
    "_Feature"
   ],
   "window_display": false
  }
 },
 "nbformat": 4,
 "nbformat_minor": 2
}
